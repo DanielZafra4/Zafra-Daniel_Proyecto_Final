{
  "nbformat": 4,
  "nbformat_minor": 0,
  "metadata": {
    "colab": {
      "provenance": [],
      "authorship_tag": "ABX9TyNXEK5cXfL/nfrsU0AawbkH",
      "include_colab_link": true
    },
    "kernelspec": {
      "name": "python3",
      "display_name": "Python 3"
    },
    "language_info": {
      "name": "python"
    }
  },
  "cells": [
    {
      "cell_type": "markdown",
      "metadata": {
        "id": "view-in-github",
        "colab_type": "text"
      },
      "source": [
        "<a href=\"https://colab.research.google.com/github/DanielZafra4/Zafra-Daniel_Proyecto_Final/blob/main/notebook_11_12.ipynb\" target=\"_parent\"><img src=\"https://colab.research.google.com/assets/colab-badge.svg\" alt=\"Open In Colab\"/></a>"
      ]
    },
    {
      "cell_type": "code",
      "execution_count": null,
      "metadata": {
        "id": "7rS9qBWNXWQe"
      },
      "outputs": [],
      "source": []
    },
    {
      "cell_type": "markdown",
      "source": [
        "#Desafio de la clase 11/12\n",
        "A continuación resolveremos el desafio:\n",
        "Se tiene una lista de Valores =[200, 225, 232, 221, 243, 256, 255] que representan los precios de una acción de la compañia X la semana pasada (cada dato representa el promedio diario) Escribir el código para calcular los días de la semana donde hubo un retroceso respecto al día anterior en el valor de la acción de la compañia X."
      ],
      "metadata": {
        "id": "kVFDVYuuXYL7"
      }
    },
    {
      "cell_type": "markdown",
      "source": [
        "**Solución 1**"
      ],
      "metadata": {
        "id": "MzEOofPuX-9K"
      }
    },
    {
      "cell_type": "code",
      "source": [
        "valores =[200, 225, 232, 221, 243, 256, 255]\n",
        "\n",
        "#solucion 1\n",
        "print('Solución 1')\n",
        "for i in range(1, len(valores)):\n",
        "  if valores[i] < valores[i-1]:\n",
        "    print(f'El día {i} hubo un retroceso')"
      ],
      "metadata": {
        "colab": {
          "base_uri": "https://localhost:8080/"
        },
        "id": "0lsFFM1QYG17",
        "outputId": "4926a4bd-8c2d-46de-91ad-14e337c71b7d"
      },
      "execution_count": null,
      "outputs": [
        {
          "output_type": "stream",
          "name": "stdout",
          "text": [
            "Solución 1\n",
            "El día 3 hubo un retroceso\n",
            "El día 6 hubo un retroceso\n"
          ]
        }
      ]
    },
    {
      "cell_type": "markdown",
      "source": [
        "**Solución 2**"
      ],
      "metadata": {
        "id": "yJ9B3WUMYlbu"
      }
    },
    {
      "cell_type": "code",
      "source": [
        "print('\\nSolucion 2:')\n",
        "dias = ['Lunes', 'Martes', 'Miercoles', 'Jueves', 'Viernes', 'Sabado', 'Domingo']\n",
        "\n",
        "for i in range (1, len(valores)):\n",
        "  if valores[i] < valores[i-1]:\n",
        "    print(f'El día {dias[i]} hubo un retroceso')"
      ],
      "metadata": {
        "colab": {
          "base_uri": "https://localhost:8080/"
        },
        "id": "Wo_pX1EPYobv",
        "outputId": "a7b0444e-ba43-4183-ddd1-c1f22c560b03"
      },
      "execution_count": null,
      "outputs": [
        {
          "output_type": "stream",
          "name": "stdout",
          "text": [
            "\n",
            "Solucion 2:\n",
            "El día Jueves hubo un retroceso\n",
            "El día Domingo hubo un retroceso\n"
          ]
        }
      ]
    }
  ]
}